{
 "cells": [
  {
   "cell_type": "code",
   "execution_count": 1,
   "id": "d4e81724",
   "metadata": {},
   "outputs": [
    {
     "name": "stderr",
     "output_type": "stream",
     "text": [
      "Setting default log level to \"WARN\".\n",
      "To adjust logging level use sc.setLogLevel(newLevel). For SparkR, use setLogLevel(newLevel).\n",
      "25/08/19 09:16:13 WARN NativeCodeLoader: Unable to load native-hadoop library for your platform... using builtin-java classes where applicable\n",
      "25/08/19 09:16:14 WARN Utils: Service 'SparkUI' could not bind on port 4040. Attempting port 4041.\n"
     ]
    }
   ],
   "source": [
    "# Create a Spark Session\n",
    "from pyspark.sql import SparkSession\n",
    "spark = (\n",
    "        SparkSession.builder.appName(\"Jupyter Sample Application\")\n",
    "        .getOrCreate()\n",
    "    )"
   ]
  },
  {
   "cell_type": "code",
   "execution_count": 2,
   "id": "74b40388",
   "metadata": {},
   "outputs": [
    {
     "name": "stdout",
     "output_type": "stream",
     "text": [
      "+---+\n",
      "|  1|\n",
      "+---+\n",
      "|  1|\n",
      "+---+\n",
      "\n"
     ]
    }
   ],
   "source": [
    "# Run Spark SQL \n",
    "spark.sql(\"select 1\").show()"
   ]
  },
  {
   "cell_type": "markdown",
   "id": "79114588",
   "metadata": {},
   "source": [
    "We can  also run Spark SQL directly with the `%%sql` magic."
   ]
  },
  {
   "cell_type": "code",
   "execution_count": null,
   "id": "453bc433",
   "metadata": {},
   "outputs": [],
   "source": [
    "%%sql\n",
    "select 1"
   ]
  },
  {
   "cell_type": "code",
   "execution_count": null,
   "id": "53785ec1",
   "metadata": {},
   "outputs": [],
   "source": [
    "%%sql\n",
    "show schemas;"
   ]
  },
  {
   "cell_type": "markdown",
   "id": "6d7b6937",
   "metadata": {},
   "source": [
    "Let's create a schema and a table."
   ]
  },
  {
   "cell_type": "code",
   "execution_count": null,
   "id": "b7100070",
   "metadata": {},
   "outputs": [],
   "source": [
    "%%sql\n",
    "create schema sample;"
   ]
  },
  {
   "cell_type": "code",
   "execution_count": null,
   "id": "bb2e16d5",
   "metadata": {},
   "outputs": [],
   "source": [
    "%%sql\n",
    "create table sample.employee (\n",
    "    id integer,\n",
    "    name string\n",
    ")"
   ]
  },
  {
   "cell_type": "code",
   "execution_count": null,
   "id": "aabbef86",
   "metadata": {},
   "outputs": [],
   "source": [
    "%%sql\n",
    "describe extended sample.employee;"
   ]
  },
  {
   "cell_type": "markdown",
   "id": "ba456ff8",
   "metadata": {},
   "source": [
    "We can see from the `Table Properties` that this table is of the `iceberg` format. Let's insert some data."
   ]
  },
  {
   "cell_type": "code",
   "execution_count": null,
   "id": "a13da6d9",
   "metadata": {},
   "outputs": [],
   "source": [
    "%%sql\n",
    "INSERT INTO sample.employee VALUES \n",
    "  (1, 'John Smith'),\n",
    "  (2, 'Sarah Johnson'),\n",
    "  (3, 'Mike Davis');"
   ]
  },
  {
   "cell_type": "markdown",
   "id": "92361a98",
   "metadata": {},
   "source": [
    "If you open minio in your browser by opening [localhost:9001](http://localhost:9001) and login with username: admin and password: password you will be able to see the table data."
   ]
  },
  {
   "cell_type": "code",
   "execution_count": 3,
   "id": "cb689ed4",
   "metadata": {},
   "outputs": [],
   "source": [
    "spark.stop()"
   ]
  }
 ],
 "metadata": {
  "kernelspec": {
   "display_name": "Python 3",
   "language": "python",
   "name": "python3"
  },
  "language_info": {
   "codemirror_mode": {
    "name": "ipython",
    "version": 3
   },
   "file_extension": ".py",
   "mimetype": "text/x-python",
   "name": "python",
   "nbconvert_exporter": "python",
   "pygments_lexer": "ipython3",
   "version": "3.10.16"
  }
 },
 "nbformat": 4,
 "nbformat_minor": 5
}
